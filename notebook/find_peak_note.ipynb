{
 "cells": [
  {
   "cell_type": "markdown",
   "id": "68a6fce3",
   "metadata": {},
   "source": [
    "# スクワット角度データ分析Notebook"
   ]
  },
  {
   "cell_type": "code",
   "execution_count": null,
   "id": "f5a49944",
   "metadata": {},
   "outputs": [],
   "source": [
    "import numpy as np\n",
    "import pandas as pd\n",
    "from scipy.signal import find_peaks\n",
    "import matplotlib.pyplot as plt"
   ]
  },
  {
   "cell_type": "code",
   "execution_count": 12,
   "id": "455a1666",
   "metadata": {},
   "outputs": [],
   "source": [
    "# csvのインポート　ダンベルスクワットは除外\n",
    "# csvは各々が出力したものを入力する\n",
    "\n",
    "Full = pd.read_csv(\"../output/フルスクワット.csv\").iloc[280:670].reset_index(drop=True)\n",
    "# Dumbell = pd.read_csv(\"../output/ダンベルスクワット.csv\").iloc[60:680].reset_index(drop=True)\n",
    "Half = pd.read_csv(\"../output/ハーフスクワット.csv\")\n",
    "TomPlatz = pd.read_csv(\"../output/TPスクワット.csv\").iloc[210:600].reset_index(drop=True)\n",
    "\n",
    "Full[\"class\"] = \"Full\"\n",
    "# Dumbell[\"class\"] = \"Dumbell\"\n",
    "Half[\"class\"] = \"Half\"\n",
    "TomPlatz[\"class\"] = \"TomPlatz\""
   ]
  },
  {
   "cell_type": "code",
   "execution_count": null,
   "id": "9af4df12",
   "metadata": {},
   "outputs": [],
   "source": [
    "# 波形データを確認\n",
    "plt.plot(Full[\"大腿角度R\"])\n",
    "# plt.xlabel('Time')\n",
    "plt.ylabel('angle')\n",
    "plt.title('Sample ECG-like Waveform')\n",
    "plt.show()"
   ]
  },
  {
   "cell_type": "code",
   "execution_count": null,
   "id": "71ce794f",
   "metadata": {},
   "outputs": [],
   "source": [
    "def calcu_peak(df,col_name,dist = 50):\n",
    "    \"\"\"\n",
    "    波形データの上限値と下限値を抽出する関数\n",
    "    \"\"\"\n",
    "    peaks, _ = find_peaks(df[col_name], distance=dist)\n",
    "    inverted_peaks, _ = find_peaks(-df[col_name], distance=dist)\n",
    "\n",
    "    # 各ピークの位置と値を表示する\n",
    "    for peak in peaks:\n",
    "        print(\"Peak Time:\", df.index[peak], \"Peak Value:\", df[col_name][peaks])\n",
    "\n",
    "    # 各最小値の位置と値を表示する\n",
    "    for inverted_peak in inverted_peaks:\n",
    "        print(\"Inverted Peak Time:\", df.index[inverted_peak], \"Inverted Peak Value:\", df[col_name][inverted_peak])\n",
    "\n",
    "    # 各ピークと最小値をプロットする\n",
    "    plt.plot(df.index, df[col_name])\n",
    "    plt.plot(df.index[peaks], df[col_name][peaks], 'ro')  # ピークを赤色の点で表示する\n",
    "    plt.plot(df.index[inverted_peaks], df[col_name][inverted_peaks], 'go')  # 最小値を緑色の点で表示する\n",
    "    plt.xlabel('Time')\n",
    "    plt.ylabel(f'{col_name}')\n",
    "    plt.show()\n",
    "\n",
    "    return df[[col_name,\"class\"]].iloc[peaks,:] , df[[col_name,\"class\"]].iloc[inverted_peaks,:]\n"
   ]
  },
  {
   "cell_type": "code",
   "execution_count": null,
   "id": "25b7c803",
   "metadata": {},
   "outputs": [],
   "source": [
    "\n",
    "df_full_peak , df_full_invers = calcu_peak(Full,\"膝角度R\",dist = 45)\n",
    "# df_dumbl_peak , df_dumbl_invers = calcu_peak(Dumbell,\"上体角度R\")\n",
    "df_half_peak , df_half_invers = calcu_peak(Half,\"膝角度R\",dist = 80)\n",
    "df_tom_peak , df_tom_invers = calcu_peak(TomPlatz,\"膝角度R\",dist = 45)\n"
   ]
  },
  {
   "cell_type": "code",
   "execution_count": null,
   "id": "1059bdb3",
   "metadata": {},
   "outputs": [],
   "source": [
    "# 膝角度を結合\n",
    "df_hiza_peak = pd.concat([df_full_peak,df_half_peak,df_tom_peak])\n",
    "df_hiza_invers = pd.concat([df_full_invers,df_half_invers,df_tom_invers])\n",
    "\n",
    "df_hiza_peak[\"peak\"] = \"upper\"\n",
    "df_hiza_invers[\"peak\"] = \"lower\""
   ]
  },
  {
   "cell_type": "markdown",
   "id": "1cc299b7",
   "metadata": {},
   "source": [
    "## 大腿角度"
   ]
  },
  {
   "cell_type": "code",
   "execution_count": null,
   "id": "1375fa28",
   "metadata": {},
   "outputs": [],
   "source": [
    "\n",
    "df_full_peak , df_full_invers = calcu_peak(Full,\"大腿角度R\",dist = 45)\n",
    "# df_dumbl_peak , df_dumbl_invers = calcu_peak(Dumbell,\"大腿角度R\")\n",
    "df_half_peak , df_half_invers = calcu_peak(Half,\"大腿角度R\",dist = 80)\n",
    "df_tom_peak , df_tom_invers = calcu_peak(TomPlatz,\"大腿角度R\",dist = 40)\n"
   ]
  },
  {
   "cell_type": "code",
   "execution_count": null,
   "id": "a7cbe17b",
   "metadata": {},
   "outputs": [],
   "source": [
    "df_daitai_peak = pd.concat([df_full_peak,df_half_peak,df_tom_peak])\n",
    "df_daitai_invers = pd.concat([df_full_invers,df_half_invers,df_tom_invers])\n",
    "\n",
    "df_daitai_peak[\"peak\"] = \"upper\"\n",
    "df_daitai_invers[\"peak\"] = \"lower\""
   ]
  },
  {
   "cell_type": "code",
   "execution_count": null,
   "id": "50a4876c",
   "metadata": {},
   "outputs": [],
   "source": [
    "import seaborn as sns\n",
    "\n",
    "df_cat = pd.concat([df_daitai_peak,df_daitai_invers])\n",
    "markers = {'upper': 'X', 'lower': 'o'}\n",
    "df_cat['marker'] = df_cat['peak'].map(markers)\n",
    "\n",
    "plt.figure(figsize=(10, 8))\n",
    "sns.scatterplot(data=df_cat, x='class', y='大腿角度R', hue='class', style='marker', s=200, palette='Set1',legend=None)\n",
    "# plt.xlabel('class')\n",
    "# plt.ylabel('大腿角度R')\n",
    "plt.tick_params(axis='x', labelsize=20)\n",
    "plt.tick_params(axis='y', labelsize=20)\n",
    "plt.show()"
   ]
  },
  {
   "cell_type": "code",
   "execution_count": null,
   "id": "235afa49",
   "metadata": {},
   "outputs": [],
   "source": [
    "import seaborn as sns\n",
    "\n",
    "df_cat2 = pd.concat([df_hiza_peak,df_hiza_invers])\n",
    "markers = {'upper': 'X', 'lower': 'o'}\n",
    "df_cat2['marker'] = df_cat2['peak'].map(markers)\n",
    "\n",
    "plt.figure(figsize=(10, 8))\n",
    "sns.scatterplot(data=df_cat2, x='class', y='膝角度R', hue='class', style='marker', s=200, palette='Set1',legend=None)\n",
    "plt.tick_params(axis='x', labelsize=20)\n",
    "plt.tick_params(axis='y', labelsize=20)\n",
    "plt.show()"
   ]
  },
  {
   "cell_type": "markdown",
   "id": "7e3667a9",
   "metadata": {},
   "source": [
    "# 大腿四頭筋長さと大腿角度の比較"
   ]
  },
  {
   "cell_type": "code",
   "execution_count": null,
   "id": "d8a8cff5",
   "metadata": {},
   "outputs": [],
   "source": [
    "\n",
    "fig = plt.figure(figsize=(15, 8))\n",
    "\n",
    "# plt.figure()\n",
    "ax1 = fig.add_subplot(111)\n",
    "fs = 1.0\n",
    "y1 = Full[\"大腿角度R\"]\n",
    "ln1=ax1.plot(y1,'C0')\n",
    "\n",
    "ax2 = ax1.twinx()\n",
    "y2 = Full[\"大腿直筋肉長さR\"]\n",
    "ln2=ax2.plot(y2,'C1')\n",
    "\n",
    "# ax1.set_ylabel('hoge')\n",
    "ax1.grid(True)\n"
   ]
  },
  {
   "cell_type": "code",
   "execution_count": null,
   "id": "467a515e",
   "metadata": {},
   "outputs": [],
   "source": []
  },
  {
   "cell_type": "code",
   "execution_count": null,
   "id": "3c5f4f27",
   "metadata": {},
   "outputs": [],
   "source": []
  }
 ],
 "metadata": {
  "kernelspec": {
   "display_name": "Python 3 (ipykernel)",
   "language": "python",
   "name": "python3"
  },
  "language_info": {
   "codemirror_mode": {
    "name": "ipython",
    "version": 3
   },
   "file_extension": ".py",
   "mimetype": "text/x-python",
   "name": "python",
   "nbconvert_exporter": "python",
   "pygments_lexer": "ipython3",
   "version": "3.7.12"
  }
 },
 "nbformat": 4,
 "nbformat_minor": 5
}
